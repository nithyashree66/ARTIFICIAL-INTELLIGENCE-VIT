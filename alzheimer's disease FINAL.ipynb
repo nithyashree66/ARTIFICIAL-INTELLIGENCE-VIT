{
 "cells": [
  {
   "cell_type": "markdown",
   "id": "3f14d776",
   "metadata": {},
   "source": [
    "# ALZHEIMER'S PREDICTION"
   ]
  },
  {
   "cell_type": "markdown",
   "id": "ad5c6c46",
   "metadata": {},
   "source": [
    "IMPORT THE LIBRARIES"
   ]
  },
  {
   "cell_type": "code",
   "execution_count": 1,
   "id": "0f51c039",
   "metadata": {},
   "outputs": [],
   "source": [
    "import numpy as np\n",
    "import pandas as pd\n",
    "import matplotlib.pyplot as plt\n",
    "from glob import glob\n",
    "from tensorflow.keras.layers import Dense, Flatten, Input\n",
    "from tensorflow.keras.models import Model\n",
    "from tensorflow.keras.preprocessing import image\n",
    "from tensorflow.keras.preprocessing.image import ImageDataGenerator, load_img\n",
    "from tensorflow.keras.applications.xception import Xception, preprocess_input"
   ]
  },
  {
   "cell_type": "markdown",
   "id": "9155ebb4",
   "metadata": {},
   "source": [
    "### CREATING AN INSTANCE OF ImageDataGenerator"
   ]
  },
  {
   "cell_type": "markdown",
   "id": "49b93ef5",
   "metadata": {},
   "source": [
    "ImageDataGenerator is a class in the tensorflow.keras.preprocessing.image module that generates batches of augmented image data in real-time during model training."
   ]
  },
  {
   "cell_type": "code",
   "execution_count": 2,
   "id": "10eeb785",
   "metadata": {},
   "outputs": [],
   "source": [
    "IMG_SIZE = 180\n",
    "IMAGE_SIZE=[180,180]\n",
    "DIM =(IMG_SIZE,IMG_SIZE)\n",
    "ZOOM=[0.99,1.01]\n",
    "BRIGHT_RANGE=[0.8,1.2]\n",
    "HORZ_FLIP = True\n",
    "FILL_MODE='constant'\n",
    "DATA_FORMAT='channels_last'\n",
    "\n",
    "work_dir='/Users/jagger/Downloads/Data'\n",
    "work_dr=ImageDataGenerator(rescale=1./255,\n",
    "                           brightness_range=BRIGHT_RANGE,\n",
    "                           zoom_range=ZOOM,\n",
    "                           data_format=DATA_FORMAT,\n",
    "                           fill_mode=FILL_MODE,\n",
    "                           horizontal_flip=HORZ_FLIP\n",
    "                          )"
   ]
  },
  {
   "cell_type": "code",
   "execution_count": 3,
   "id": "8db350cb",
   "metadata": {},
   "outputs": [
    {
     "name": "stdout",
     "output_type": "stream",
     "text": [
      "Found 86437 images belonging to 4 classes.\n"
     ]
    }
   ],
   "source": [
    "data_gen = work_dr.flow_from_directory(directory=work_dir,\n",
    "                                       target_size=DIM,\n",
    "                                       batch_size=6500,\n",
    "                                       shuffle=False\n",
    "                                      )"
   ]
  },
  {
   "cell_type": "code",
   "execution_count": 4,
   "id": "e8ac0930",
   "metadata": {},
   "outputs": [],
   "source": [
    "train_data,train_labels=data_gen.next()"
   ]
  },
  {
   "cell_type": "code",
   "execution_count": 5,
   "id": "f6e2cf5d",
   "metadata": {},
   "outputs": [
    {
     "name": "stdout",
     "output_type": "stream",
     "text": [
      "(6500, 180, 180, 3) (6500, 4)\n"
     ]
    }
   ],
   "source": [
    "print(train_data.shape,train_labels.shape)"
   ]
  },
  {
   "cell_type": "markdown",
   "id": "43de0f67",
   "metadata": {},
   "source": [
    "'''from imblearn.over_sampling import SMOTE\n",
    "sm=SMOTE(random_state=42)\n",
    "\n",
    "train_data,train_labels=sm.fit_resample(train_data.reshape(-1,IMG_SIZE*IMG_SIZE*3),train_labels)\n",
    "\n",
    "train_data=train_data.reshape(-1,IMG_SIZE,IMG_SIZE,3)\n",
    "print(train_data.shape,train_labels.shape)\n",
    "'''"
   ]
  },
  {
   "cell_type": "markdown",
   "id": "5b3aabb3",
   "metadata": {},
   "source": [
    "### SPLITTING TEST AND TRAIN DATA"
   ]
  },
  {
   "cell_type": "code",
   "execution_count": 6,
   "id": "ec3dcbdf",
   "metadata": {},
   "outputs": [],
   "source": [
    "from sklearn.model_selection import train_test_split\n",
    "\n",
    "train_data, test_data, train_labels, test_labels = train_test_split(train_data,train_labels,test_size=0.2,random_state=42)\n",
    "train_data,val_data,train_labels,val_labels=train_test_split(train_data,train_labels,test_size=0.2,random_state=42)"
   ]
  },
  {
   "cell_type": "markdown",
   "id": "79c6db85",
   "metadata": {},
   "source": [
    "### BUILDING THE MODEL"
   ]
  },
  {
   "cell_type": "markdown",
   "id": "5f63c8cf",
   "metadata": {},
   "source": [
    "A simple feature extractor is used to freeze all the five convolution blocks to make sure their weights don’t get updated after each epoch as we train our own model."
   ]
  },
  {
   "cell_type": "code",
   "execution_count": 7,
   "id": "f1e85879",
   "metadata": {},
   "outputs": [],
   "source": [
    "xcep_model = Xception(input_shape=IMAGE_SIZE+[3], weights='imagenet',include_top=False)\n",
    "for layer in xcep_model.layers:\n",
    "    layer.trainable=False"
   ]
  },
  {
   "cell_type": "code",
   "execution_count": 8,
   "id": "1c155ca1",
   "metadata": {},
   "outputs": [],
   "source": [
    "from tensorflow.keras.models import Sequential\n",
    "from tensorflow.keras.layers import SeparableConv2D, BatchNormalization, GlobalAveragePooling2D, Dropout\n",
    "\n",
    "custom_inception_model=Sequential([\n",
    "    xcep_model,\n",
    "    Dropout(0.5),\n",
    "    GlobalAveragePooling2D(),\n",
    "    Flatten(),\n",
    "    BatchNormalization(),\n",
    "    Dense(512,activation='relu'),\n",
    "    BatchNormalization(),\n",
    "    Dropout(0.5),\n",
    "    Dense(256,activation='relu'),\n",
    "    BatchNormalization(),\n",
    "    Dropout(0.5),\n",
    "    Dense(128,activation='relu'),\n",
    "    BatchNormalization(),\n",
    "    Dropout(0.5),\n",
    "    Dense(64,activation='relu'),\n",
    "    Dropout(0.5),\n",
    "    BatchNormalization(),\n",
    "    Dense(4,activation='softmax')\n",
    "],name='inception_cnn_model')"
   ]
  },
  {
   "cell_type": "code",
   "execution_count": 9,
   "id": "07aa5fb5",
   "metadata": {},
   "outputs": [],
   "source": [
    "custom_inception_model.compile(loss='categorical_crossentropy',optimizer='adam',metrics=['accuracy'])"
   ]
  },
  {
   "cell_type": "code",
   "execution_count": 10,
   "id": "6a4f81b3",
   "metadata": {},
   "outputs": [
    {
     "name": "stdout",
     "output_type": "stream",
     "text": [
      "Model: \"inception_cnn_model\"\n",
      "_________________________________________________________________\n",
      " Layer (type)                Output Shape              Param #   \n",
      "=================================================================\n",
      " xception (Functional)       (None, 6, 6, 2048)        20861480  \n",
      "                                                                 \n",
      " dropout (Dropout)           (None, 6, 6, 2048)        0         \n",
      "                                                                 \n",
      " global_average_pooling2d (  (None, 2048)              0         \n",
      " GlobalAveragePooling2D)                                         \n",
      "                                                                 \n",
      " flatten (Flatten)           (None, 2048)              0         \n",
      "                                                                 \n",
      " batch_normalization_4 (Bat  (None, 2048)              8192      \n",
      " chNormalization)                                                \n",
      "                                                                 \n",
      " dense (Dense)               (None, 512)               1049088   \n",
      "                                                                 \n",
      " batch_normalization_5 (Bat  (None, 512)               2048      \n",
      " chNormalization)                                                \n",
      "                                                                 \n",
      " dropout_1 (Dropout)         (None, 512)               0         \n",
      "                                                                 \n",
      " dense_1 (Dense)             (None, 256)               131328    \n",
      "                                                                 \n",
      " batch_normalization_6 (Bat  (None, 256)               1024      \n",
      " chNormalization)                                                \n",
      "                                                                 \n",
      " dropout_2 (Dropout)         (None, 256)               0         \n",
      "                                                                 \n",
      " dense_2 (Dense)             (None, 128)               32896     \n",
      "                                                                 \n",
      " batch_normalization_7 (Bat  (None, 128)               512       \n",
      " chNormalization)                                                \n",
      "                                                                 \n",
      " dropout_3 (Dropout)         (None, 128)               0         \n",
      "                                                                 \n",
      " dense_3 (Dense)             (None, 64)                8256      \n",
      "                                                                 \n",
      " dropout_4 (Dropout)         (None, 64)                0         \n",
      "                                                                 \n",
      " batch_normalization_8 (Bat  (None, 64)                256       \n",
      " chNormalization)                                                \n",
      "                                                                 \n",
      " dense_4 (Dense)             (None, 4)                 260       \n",
      "                                                                 \n",
      "=================================================================\n",
      "Total params: 22095340 (84.29 MB)\n",
      "Trainable params: 1227844 (4.68 MB)\n",
      "Non-trainable params: 20867496 (79.60 MB)\n",
      "_________________________________________________________________\n"
     ]
    }
   ],
   "source": [
    "custom_inception_model.summary()"
   ]
  },
  {
   "cell_type": "markdown",
   "id": "4cba33aa",
   "metadata": {},
   "source": [
    "### TRAIN THE MODEL"
   ]
  },
  {
   "cell_type": "code",
   "execution_count": 11,
   "id": "61811534",
   "metadata": {},
   "outputs": [
    {
     "name": "stdout",
     "output_type": "stream",
     "text": [
      "Epoch 1/30\n",
      "416/416 [==============================] - 299s 716ms/step - loss: 1.0544 - accuracy: 0.5947 - val_loss: 0.5839 - val_accuracy: 0.8062\n",
      "Epoch 2/30\n",
      "416/416 [==============================] - 271s 651ms/step - loss: 0.6872 - accuracy: 0.7538 - val_loss: 0.4941 - val_accuracy: 0.8377\n",
      "Epoch 3/30\n",
      "416/416 [==============================] - 272s 654ms/step - loss: 0.5959 - accuracy: 0.7812 - val_loss: 0.4112 - val_accuracy: 0.8577\n",
      "Epoch 4/30\n",
      "416/416 [==============================] - 239s 576ms/step - loss: 0.5359 - accuracy: 0.8046 - val_loss: 0.3656 - val_accuracy: 0.8762\n",
      "Epoch 5/30\n",
      "416/416 [==============================] - 232s 557ms/step - loss: 0.4967 - accuracy: 0.8070 - val_loss: 0.3032 - val_accuracy: 0.8869\n",
      "Epoch 6/30\n",
      "416/416 [==============================] - 233s 561ms/step - loss: 0.4657 - accuracy: 0.8240 - val_loss: 0.3232 - val_accuracy: 0.8777\n",
      "Epoch 7/30\n",
      "416/416 [==============================] - 258s 621ms/step - loss: 0.4101 - accuracy: 0.8416 - val_loss: 0.2219 - val_accuracy: 0.9177\n",
      "Epoch 8/30\n",
      "416/416 [==============================] - 266s 639ms/step - loss: 0.3716 - accuracy: 0.8584 - val_loss: 0.1739 - val_accuracy: 0.9462\n",
      "Epoch 9/30\n",
      "416/416 [==============================] - 267s 643ms/step - loss: 0.3506 - accuracy: 0.8673 - val_loss: 0.1587 - val_accuracy: 0.9446\n",
      "Epoch 10/30\n",
      "416/416 [==============================] - 282s 680ms/step - loss: 0.3733 - accuracy: 0.8579 - val_loss: 0.1621 - val_accuracy: 0.9492\n",
      "Epoch 11/30\n",
      "416/416 [==============================] - 285s 685ms/step - loss: 0.3229 - accuracy: 0.8663 - val_loss: 0.1334 - val_accuracy: 0.9538\n",
      "Epoch 12/30\n",
      "416/416 [==============================] - 243s 584ms/step - loss: 0.3166 - accuracy: 0.8810 - val_loss: 0.1332 - val_accuracy: 0.9562\n",
      "Epoch 13/30\n",
      "416/416 [==============================] - 236s 568ms/step - loss: 0.2945 - accuracy: 0.8861 - val_loss: 0.1275 - val_accuracy: 0.9608\n",
      "Epoch 14/30\n",
      "416/416 [==============================] - 226s 544ms/step - loss: 0.2922 - accuracy: 0.8858 - val_loss: 0.1211 - val_accuracy: 0.9554\n",
      "Epoch 15/30\n",
      "416/416 [==============================] - 222s 534ms/step - loss: 0.2754 - accuracy: 0.8894 - val_loss: 0.0999 - val_accuracy: 0.9631\n",
      "Epoch 16/30\n",
      "416/416 [==============================] - 225s 542ms/step - loss: 0.2750 - accuracy: 0.8933 - val_loss: 0.1026 - val_accuracy: 0.9715\n",
      "Epoch 17/30\n",
      "416/416 [==============================] - 224s 538ms/step - loss: 0.2679 - accuracy: 0.8938 - val_loss: 0.1278 - val_accuracy: 0.9546\n",
      "Epoch 18/30\n",
      "416/416 [==============================] - 225s 541ms/step - loss: 0.2537 - accuracy: 0.9062 - val_loss: 0.0864 - val_accuracy: 0.9731\n",
      "Epoch 19/30\n",
      "416/416 [==============================] - 227s 546ms/step - loss: 0.2310 - accuracy: 0.9096 - val_loss: 0.0821 - val_accuracy: 0.9708\n",
      "Epoch 20/30\n",
      "416/416 [==============================] - 228s 549ms/step - loss: 0.2446 - accuracy: 0.9079 - val_loss: 0.0899 - val_accuracy: 0.9746\n",
      "Epoch 21/30\n",
      "416/416 [==============================] - 226s 542ms/step - loss: 0.2393 - accuracy: 0.9067 - val_loss: 0.1125 - val_accuracy: 0.9585\n",
      "Epoch 22/30\n",
      "416/416 [==============================] - 222s 535ms/step - loss: 0.2289 - accuracy: 0.9103 - val_loss: 0.0928 - val_accuracy: 0.9738\n",
      "Epoch 23/30\n",
      "416/416 [==============================] - 252s 606ms/step - loss: 0.2283 - accuracy: 0.9168 - val_loss: 0.0818 - val_accuracy: 0.9715\n",
      "Epoch 24/30\n",
      "416/416 [==============================] - 343s 825ms/step - loss: 0.2022 - accuracy: 0.9245 - val_loss: 0.0868 - val_accuracy: 0.9738\n",
      "Epoch 25/30\n",
      "416/416 [==============================] - 227s 545ms/step - loss: 0.2009 - accuracy: 0.9262 - val_loss: 0.0984 - val_accuracy: 0.9723\n",
      "Epoch 26/30\n",
      "416/416 [==============================] - 233s 561ms/step - loss: 0.1973 - accuracy: 0.9296 - val_loss: 0.0748 - val_accuracy: 0.9762\n",
      "Epoch 27/30\n",
      "416/416 [==============================] - 233s 559ms/step - loss: 0.2099 - accuracy: 0.9190 - val_loss: 0.0690 - val_accuracy: 0.9823\n",
      "Epoch 28/30\n",
      "416/416 [==============================] - 233s 561ms/step - loss: 0.2084 - accuracy: 0.9240 - val_loss: 0.0611 - val_accuracy: 0.9808\n",
      "Epoch 29/30\n",
      "416/416 [==============================] - 232s 557ms/step - loss: 0.2182 - accuracy: 0.9156 - val_loss: 0.0667 - val_accuracy: 0.9831\n",
      "Epoch 30/30\n",
      "416/416 [==============================] - 231s 555ms/step - loss: 0.1732 - accuracy: 0.9361 - val_loss: 0.0661 - val_accuracy: 0.9777\n"
     ]
    }
   ],
   "source": [
    "history=custom_inception_model.fit(train_data,train_labels,epochs=30,batch_size=10,verbose=1,validation_data=(test_data,test_labels))"
   ]
  },
  {
   "cell_type": "code",
   "execution_count": 12,
   "id": "1852b2e4",
   "metadata": {},
   "outputs": [
    {
     "data": {
      "image/png": "[encoded data removed]",
      "text/plain": [
       "<Figure size 640x480 with 1 Axes>"
      ]
     },
     "metadata": {},
     "output_type": "display_data"
    }
   ],
   "source": [
    "plt.plot(history.history['loss'])\n",
    "plt.plot(history.history['val_loss'])\n",
    "plt.title('Model Loss')\n",
    "plt.xlabel('Loss')\n",
    "plt.ylabel('Epoch')\n",
    "plt.legend(['Test','Validation'],loc='upper right')\n",
    "plt.show()"
   ]
  },
  {
   "cell_type": "code",
   "execution_count": 13,
   "id": "474d283d",
   "metadata": {},
   "outputs": [
    {
     "data": {
      "image/png": "[encoded data removed]",
      "text/plain": [
       "<Figure size 640x480 with 1 Axes>"
      ]
     },
     "metadata": {},
     "output_type": "display_data"
    }
   ],
   "source": [
    "plt.plot(history.history['accuracy'])\n",
    "plt.plot(history.history['val_accuracy'])\n",
    "plt.title('Model Accuracy')\n",
    "plt.xlabel('Accuracy')\n",
    "plt.ylabel('Epoch')\n",
    "plt.legend(['Test','Validation'],loc='upper right')\n",
    "plt.show()"
   ]
  },
  {
   "cell_type": "code",
   "execution_count": 16,
   "id": "90c33484",
   "metadata": {},
   "outputs": [],
   "source": [
    "custom_inception_model.save('adp.h5')"
   ]
  },
  {
   "cell_type": "code",
   "execution_count": null,
   "id": "efc12be3",
   "metadata": {},
   "outputs": [],
   "source": []
  },
  {
   "cell_type": "code",
   "execution_count": 2,
   "id": "0d9bac90",
   "metadata": {},
   "outputs": [],
   "source": [
    "from tensorflow.keras.models import load_model\n",
    "from tensorflow.keras.preprocessing import image\n",
    "import numpy as np\n",
    "import os\n",
    "import tensorflow as tf"
   ]
  },
  {
   "cell_type": "code",
   "execution_count": 4,
   "id": "47ecb3ab",
   "metadata": {},
   "outputs": [],
   "source": [
    "model=load_model('/Users/jagger/Documents/EXTERNSHIP PROJECT/TRAINING/adp.h5')"
   ]
  },
  {
   "cell_type": "markdown",
   "id": "b9bdd197",
   "metadata": {},
   "source": [
    "### PRE-PROCESS THE IMAGE"
   ]
  },
  {
   "cell_type": "code",
   "execution_count": 5,
   "id": "21a523f6",
   "metadata": {},
   "outputs": [],
   "source": [
    "def preprocess_image(image_path):\n",
    "    img = image.load_img(image_path, target_size=(180,180,3))  \n",
    "    img = image.img_to_array(img)\n",
    "    img = np.expand_dims(img, axis=0)\n",
    "    img = tf.keras.applications.resnet50.preprocess_input(img)\n",
    "    return img"
   ]
  },
  {
   "cell_type": "code",
   "execution_count": 7,
   "id": "70d2a8d7",
   "metadata": {},
   "outputs": [],
   "source": [
    "categories = sorted(os.listdir('/Users/jagger/Documents/EXTERNSHIP PROJECT/DATASET/Data'))"
   ]
  },
  {
   "cell_type": "code",
   "execution_count": 8,
   "id": "e0c2ef64",
   "metadata": {},
   "outputs": [
    {
     "name": "stdout",
     "output_type": "stream",
     "text": [
      "Categories:  ['.DS_Store', 'Mild Dementia', 'Moderate Dementia', 'Non Demented', 'Very mild Dementia']\n"
     ]
    }
   ],
   "source": [
    "print(\"Categories: \",categories)"
   ]
  },
  {
   "cell_type": "markdown",
   "id": "1ce0f929",
   "metadata": {},
   "source": [
    "### FUNCTION TO PREDICT IMAGE "
   ]
  },
  {
   "cell_type": "code",
   "execution_count": 9,
   "id": "ac25ff47",
   "metadata": {},
   "outputs": [],
   "source": [
    "def predict_category(image_path):\n",
    "    processed_img = preprocess_image(image_path)\n",
    "    predictions = model.predict(processed_img)\n",
    "    category_index = np.argmax(predictions, axis=1)[0]\n",
    "    categories = ['Mild Dementia','Moderate Dementia','Non Demented','Very mild Dementia']\n",
    "    predicted_category = categories[category_index]\n",
    "    return predicted_category"
   ]
  },
  {
   "cell_type": "code",
   "execution_count": 10,
   "id": "ccf90062",
   "metadata": {},
   "outputs": [],
   "source": [
    "input_image_path = '/Users/jagger/Documents/EXTERNSHIP PROJECT/DATASET/Data/Mild Dementia/OAS1_0035_MR1_mpr-2_108.jpg'"
   ]
  },
  {
   "cell_type": "code",
   "execution_count": 11,
   "id": "823595e9",
   "metadata": {},
   "outputs": [
    {
     "name": "stdout",
     "output_type": "stream",
     "text": [
      "1/1 [==============================] - 1s 518ms/step\n"
     ]
    }
   ],
   "source": [
    "predicted_category = predict_category(input_image_path)"
   ]
  },
  {
   "cell_type": "code",
   "execution_count": 12,
   "id": "693e1b64",
   "metadata": {},
   "outputs": [
    {
     "name": "stdout",
     "output_type": "stream",
     "text": [
      "Predicted Category: Mild Dementia\n"
     ]
    }
   ],
   "source": [
    "print('Predicted Category:', predicted_category)"
   ]
  }
 ],
 "metadata": {
  "kernelspec": {
   "display_name": "Python 3 (ipykernel)",
   "language": "python",
   "name": "python3"
  },
  "language_info": {
   "codemirror_mode": {
    "name": "ipython",
    "version": 3
   },
   "file_extension": ".py",
   "mimetype": "text/x-python",
   "name": "python",
   "nbconvert_exporter": "python",
   "pygments_lexer": "ipython3",
   "version": "3.10.9"
  }
 },
 "nbformat": 4,
 "nbformat_minor": 5
}
